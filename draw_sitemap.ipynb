{
 "cells": [
  {
   "cell_type": "code",
   "execution_count": 12,
   "metadata": {},
   "outputs": [],
   "source": [
    "import json\n",
    "from graphviz import Digraph\n",
    "\n",
    "file_name = \"sitemap\"\n",
    "\n",
    "# 讀取 JSON 檔案\n",
    "with open('result.json', 'r', encoding='utf-8') as file:\n",
    "    data = json.load(file)\n",
    "\n",
    "# 創建 Digraph 對象\n",
    "dot = Digraph(comment='Sitemap')\n",
    "\n",
    "# 為每個頁面添加節點和邊\n",
    "for page in data:\n",
    "    # 替換冒號、點、和 @ 符號\n",
    "    page_url = page['url'].replace('.', '_').replace('@', '_at_').replace(':', '_colon_')\n",
    "    page_title = page['title'].replace('\\n', ' ').replace('@', '_at_').replace(':', '_colon_')\n",
    "    dot.node(page_url, page_title)\n",
    "    for link in page['links']:\n",
    "        link_url = link[1].replace('.', '_').replace('@', '_at_').replace(':', '_colon_')\n",
    "        link_label = link[0].replace('\\n', ' ').replace('@', '_at_').replace(':', '_colon_')\n",
    "        dot.edge(page_url, link_url, label=link_label)\n",
    "\n",
    "# 保存和/或顯示圖形\n",
    "dot.render(file_name + '.gv', view=True)\n"
   ]
  },
  {
   "cell_type": "code",
   "execution_count": null,
   "metadata": {},
   "outputs": [],
   "source": [
    "from graphviz import Source\n",
    "\n",
    "# 指定你的 .gv 文件名稱\n",
    "# 讀取並創建圖形對象\n",
    "source = Source.from_file(file_name + \".gv\")\n",
    "\n",
    "# 渲染成 PNG 圖片 (你也可以選擇其他格式，如 PDF)\n",
    "output_filename = source.render(format='png', outfile='sitemap_output.png')\n",
    "\n",
    "print(f\"圖形已保存為：{output_filename}\")\n"
   ]
  }
 ],
 "metadata": {
  "kernelspec": {
   "display_name": "Python 3",
   "language": "python",
   "name": "python3"
  },
  "language_info": {
   "codemirror_mode": {
    "name": "ipython",
    "version": 3
   },
   "file_extension": ".py",
   "mimetype": "text/x-python",
   "name": "python",
   "nbconvert_exporter": "python",
   "pygments_lexer": "ipython3",
   "version": "3.11.5"
  }
 },
 "nbformat": 4,
 "nbformat_minor": 2
}
