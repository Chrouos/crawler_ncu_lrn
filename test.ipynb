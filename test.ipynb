{
 "cells": [
  {
   "cell_type": "markdown",
   "metadata": {},
   "source": [
    "Get the Cookies and headers More like a people."
   ]
  },
  {
   "cell_type": "code",
   "execution_count": 3,
   "metadata": {},
   "outputs": [],
   "source": [
    "from seleniumwire import webdriver  \n",
    "from fake_useragent import UserAgent\n",
    "from selenium.webdriver.chrome.options import Options\n",
    "\n",
    "\n",
    "# - step1 selenium 上網登入 ee-class\n",
    "url = \"https://military.ncu.edu.tw\" # = ee-class url\n",
    "\n",
    "# : user agent setting\n",
    "ua = UserAgent()\n",
    "user_agent = ua.random\n",
    "\n",
    "# : option setting\n",
    "chrome_opt = Options()\n",
    "chrome_opt.add_argument(\"start-maximized\")  # 開啟視窗最大化\n",
    "chrome_opt.add_argument(\"--disable-proxy-certificate-handler\")\n",
    "chrome_opt.add_argument(\"--disable-content-security-policy\")\n",
    "chrome_opt.add_argument(\"--disable-proxy-certificate-handler\")\n",
    "chrome_opt.add_argument(\"--ignore-certificate-errors\")\n",
    "chrome_opt.add_argument(\"--incognito\")      # 設置隱身模式，可以避免個人化廣告，加速網頁瀏覽\n",
    "\n",
    "# : driver setting \n",
    "driver = webdriver.Chrome(options = chrome_opt) # => insert the option to the driver (can be overridden)\n",
    "driver.delete_all_cookies() # 防止污染\n",
    "\n",
    "# : Get the Cookies & Headers\n",
    "current_login_cookie = driver.get_cookies()\n",
    "current_login_requests = driver.requests\n",
    "\n",
    "headers = {}\n",
    "for request in driver.requests:\n",
    "    if f\"https://ncueeclass.ncu.edu.tw/dashboard\" == str(request):\n",
    "        headers = {k: v for k, v in request.headers.items()} \n",
    "        \n",
    "# 自動填入 headers\n",
    "print(\"cookies:\", current_login_cookie)\n",
    "print(\"requests:\", current_login_requests)\n"
   ]
  },
  {
   "cell_type": "markdown",
   "metadata": {},
   "source": [
    "Request the website Content"
   ]
  },
  {
   "cell_type": "code",
   "execution_count": 1,
   "metadata": {},
   "outputs": [
    {
     "name": "stdout",
     "output_type": "stream",
     "text": [
      "網頁標題: 歡迎光臨國立中央大學校園安全中心\n"
     ]
    }
   ],
   "source": [
    "import requests\n",
    "from bs4 import BeautifulSoup\n",
    "\n",
    "#: default setting.\n",
    "url = \"https://military.ncu.edu.tw\"\n",
    "\n",
    "try:\n",
    "    with requests.Session() as session: \n",
    "    # ~ Session can update the performance of the server. \n",
    "    \n",
    "        resp = session.get(url)\n",
    "        # ~ Get the response of the website.\n",
    "        \n",
    "        # @ Check the response and Parser the response to HTML.\n",
    "        resp.raise_for_status()\n",
    "        soup = BeautifulSoup(resp.text, \"html.parser\")\n",
    "        \n",
    "        # @ Get the elements of the site.\n",
    "        title = soup.title.get_text() if soup.title else ''\n",
    "        print(\"網頁標題:\", title)\n",
    "        \n",
    "except requests.HTTPError as e:\n",
    "    print('HTTP error', e.response.status_code)\n",
    "except requests.RequestException as e:\n",
    "    print('Request error:', e)"
   ]
  },
  {
   "cell_type": "code",
   "execution_count": 2,
   "metadata": {},
   "outputs": [],
   "source": []
  },
  {
   "cell_type": "code",
   "execution_count": null,
   "metadata": {},
   "outputs": [],
   "source": []
  }
 ],
 "metadata": {
  "kernelspec": {
   "display_name": "Python 3",
   "language": "python",
   "name": "python3"
  },
  "language_info": {
   "codemirror_mode": {
    "name": "ipython",
    "version": 3
   },
   "file_extension": ".py",
   "mimetype": "text/x-python",
   "name": "python",
   "nbconvert_exporter": "python",
   "pygments_lexer": "ipython3",
   "version": "3.11.5"
  }
 },
 "nbformat": 4,
 "nbformat_minor": 2
}
